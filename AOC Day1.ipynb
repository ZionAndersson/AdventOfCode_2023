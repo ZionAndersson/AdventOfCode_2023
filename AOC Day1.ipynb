{
 "cells": [
  {
   "cell_type": "code",
   "execution_count": 15,
   "id": "1d708eaa-36ce-4865-80ee-d1a42cb8c3df",
   "metadata": {},
   "outputs": [],
   "source": [
    "with open('day1.txt') as f:\n",
    "    content_list = [line.rstrip() for line in f]"
   ]
  },
  {
   "cell_type": "code",
   "execution_count": 49,
   "id": "9e11d770-f35f-4253-bc92-75dae6f226b6",
   "metadata": {},
   "outputs": [],
   "source": [
    "import regex as re\n",
    "fixed_list = []\n",
    "for line in content_list:\n",
    "    n = re.search('[0-9]', line)\n",
    "    m = re.match('.+([0-9])[^0-9]*$', line)\n",
    "    ## assuming we got an error on m.group when there is only one digit in the line, then n value should be used twice\n",
    "    try:\n",
    "        number = n.group() + m.group(1)\n",
    "    except:\n",
    "        number = n.group() + n.group()\n",
    "        \n",
    "    fixed_list.append(int(number))"
   ]
  },
  {
   "cell_type": "code",
   "execution_count": 50,
   "id": "220984bd-c8c8-49d4-9e04-10b2cb0a155d",
   "metadata": {},
   "outputs": [
    {
     "data": {
      "text/plain": [
       "56397"
      ]
     },
     "execution_count": 50,
     "metadata": {},
     "output_type": "execute_result"
    }
   ],
   "source": [
    "sum(fixed_list)"
   ]
  }
 ],
 "metadata": {
  "kernelspec": {
   "display_name": "Python 3 (ipykernel)",
   "language": "python",
   "name": "python3"
  },
  "language_info": {
   "codemirror_mode": {
    "name": "ipython",
    "version": 3
   },
   "file_extension": ".py",
   "mimetype": "text/x-python",
   "name": "python",
   "nbconvert_exporter": "python",
   "pygments_lexer": "ipython3",
   "version": "3.10.9"
  }
 },
 "nbformat": 4,
 "nbformat_minor": 5
}

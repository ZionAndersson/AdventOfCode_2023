{
 "cells": [
  {
   "cell_type": "code",
   "execution_count": 63,
   "id": "9e11d770-f35f-4253-bc92-75dae6f226b6",
   "metadata": {},
   "outputs": [],
   "source": [
    "import re\n",
    "import pandas as pd\n",
    "\n",
    "with open(\"day2.txt\") as f:\n",
    "    data = f.read().strip()\n",
    "    \n",
    "data2 = data.split(\"\\n\")"
   ]
  },
  {
   "cell_type": "code",
   "execution_count": 129,
   "id": "220984bd-c8c8-49d4-9e04-10b2cb0a155d",
   "metadata": {},
   "outputs": [
    {
     "data": {
      "text/plain": [
       "2285"
      ]
     },
     "execution_count": 129,
     "metadata": {},
     "output_type": "execute_result"
    }
   ],
   "source": [
    "# Part 1\n",
    "game = 1\n",
    "max_colors = []\n",
    "for line in data2:\n",
    "    red = 0\n",
    "    blue = 0 \n",
    "    green = 0\n",
    "    #Max red\n",
    "    red = list(map(int,(re.findall(r\"(\\d+) red\", line))))\n",
    "    \n",
    "    max_red = max(red)\n",
    "    #Max blue\n",
    "    blue = list(map(int,(re.findall(r\"(\\d+) blue\", line))))\n",
    "    max_blue = max(blue)\n",
    "    #Max green\n",
    "    green = list(map(int,(re.findall(r\"(\\d+) green\", line))))\n",
    "    max_green = max(green)\n",
    "    if (int(max_red) <= 12) and (int(max_blue) <= 14) and (int(max_green) <= 13):\n",
    "        max_colors.append(game)\n",
    "    game = game + 1\n",
    "    \n",
    "sum(max_colors)"
   ]
  },
  {
   "cell_type": "code",
   "execution_count": 130,
   "id": "e2ce6ffb-7d07-4fcb-b3b1-5518b1044de3",
   "metadata": {},
   "outputs": [],
   "source": [
    "# Part 2\n",
    "max_colors = []\n",
    "for line in data2:\n",
    "    red = 0\n",
    "    blue = 0 \n",
    "    green = 0\n",
    "    #Max red\n",
    "    red = list(map(int,(re.findall(r\"(\\d+) red\", line))))\n",
    "    \n",
    "    max_red = max(red)\n",
    "    #Max blue\n",
    "    blue = list(map(int,(re.findall(r\"(\\d+) blue\", line))))\n",
    "    max_blue = max(blue)\n",
    "    #Max green\n",
    "    green = list(map(int,(re.findall(r\"(\\d+) green\", line))))\n",
    "    max_green = max(green)\n",
    "    power_cube = max_red * max_blue * max_green\n",
    "    max_colors.append(power_cube)\n"
   ]
  },
  {
   "cell_type": "code",
   "execution_count": 131,
   "id": "f93aa15d-fe57-4af3-a2f8-785d2d67de39",
   "metadata": {},
   "outputs": [
    {
     "data": {
      "text/plain": [
       "77021"
      ]
     },
     "execution_count": 131,
     "metadata": {},
     "output_type": "execute_result"
    }
   ],
   "source": [
    "\n",
    "sum(max_colors)"
   ]
  }
 ],
 "metadata": {
  "kernelspec": {
   "display_name": "Python 3 (ipykernel)",
   "language": "python",
   "name": "python3"
  },
  "language_info": {
   "codemirror_mode": {
    "name": "ipython",
    "version": 3
   },
   "file_extension": ".py",
   "mimetype": "text/x-python",
   "name": "python",
   "nbconvert_exporter": "python",
   "pygments_lexer": "ipython3",
   "version": "3.10.9"
  }
 },
 "nbformat": 4,
 "nbformat_minor": 5
}
